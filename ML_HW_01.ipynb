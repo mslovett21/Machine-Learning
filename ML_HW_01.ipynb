{
 "cells": [
  {
   "cell_type": "markdown",
   "metadata": {},
   "source": [
    "# CSCI 353: Assignment 1\n",
    "## Standard 1. and 2. Classification Problem\n",
    "\n",
    "\n",
    "kNN is an instance-based learning classifier that remembers all training instances and searches for the recorded instance(s) that most closely resembles a new one.  (source: class slides)\n",
    "<br>\n",
    "The assignment required to classify a new instance based on a labeled training set.\n",
    "<br>\n",
    "To examine how the kNN algorithm operates the new instance was categorized with use of:\n",
    "* different values of k (k=1,4,6),<br>\n",
    "* different distance metrics (manhattan, euclidean, Minkowski with p=0.707 and p=2.828 and chebyshev distance),<br>\n",
    "* raw, normalized and standardized data.\n",
    "\n",
    "\n",
    "### Training Data\n",
    "\n",
    "The provided dataset has 4 numeric features and a nominal class label (A, B or C)\n",
    "\n",
    "### RAW DATA\n",
    "\n",
    "Is not recommended to use kNN on raw data because different features are often measured on different scales. In case of kNN the features with big values would dominate the calculation. (Tree- based classification algorithms are  scale-invariant.)\n",
    "\n",
    "### NORMALIZED DATA\n",
    "\n",
    "Min-max normalization is used to transform data onto [0,1] range. However, using this method decreases the standard deviation among the points and suppresses outliers. \n",
    "\n",
    "### Z-NORMALIZED (STANDARDIZED) DATA \n",
    "\n",
    "This method centers the data at 0. If all the features are z-normalized they contribute equally to kNN algorithm.\n"
   ]
  },
  {
   "attachments": {
    "_auto_0": {
     "image/png": "[encoded data removed]"
    },
    "_auto_1": {
     "image/png": "[encoded data removed]"
    },
    "_auto_2": {
     "image/png": "[encoded data removed]"
    },
    "_auto_3": {
     "image/png": "[encoded data removed]"
    },
    "_auto_4": {
     "image/png": "[encoded data removed]"
    }
   },
   "cell_type": "markdown",
   "metadata": {},
   "source": [
    "## Manhattan Distance\n",
    "\n",
    "\n",
    "Distance between two points in a grid based on a strictly horizontal and/or vertical path. This metric is advised in situations where a difference of 1 in the 1st variable and 1 in the 2nd variable, can be treated as the same as difference of 2 in the first variable only.  \n",
    "\n",
    "![_auto_0](attachment:_auto_0)\n",
    "\n",
    "### Summary for Manhattan Distance Metric\n",
    "\n",
    "| k-Nearest Neighbor | k-th point   | 1|2|3|4|5|6| 1-kNN|4-kNN|6-kNN\n",
    "|------|------|\n",
    "|   Raw Data | | B8|A10|C6|C15|A7|C9| **\"B\"**|**\"C\"**|**\"C\"**|\n",
    "|   Normalized Data | |B8|A10|B2|C6|A4|A7|**\"B\"**|**\"B\"**|**\"A\"**|\n",
    "|   Standardized Data ||B8|A10|B2|C6|C15|A4|**\"B\"**|**\"B\"**|**\"B\"**|\n",
    "\n",
    "Regardless of scaling method used, each model with k=1 classifies the new instance as a member of the class \"B\".\n",
    "This is due to chance as models trained with k=1 are unstable.(Adding just one more instance to the training set could drastically change results of the analysis). <br>\n",
    "For k=6 each model classifies the new instance as a member of a different class. k=16 is too big considering that the training set consists of only 15 instances.(Overfitting)<br>\n",
    "Possible causes:\n",
    "* in the model trained on the raw data one (or more) of the features skewes the computation.(Results are misleading).\n",
    "* models trained on normalized and standardized data agree with the first 4 nearest neighbors, however 5-th and 6th points are different. (It is worth noticing that 5-th, 6th and 7-th closest neighbors for both models consist of the same set of point in different order.) This disparity emphasizes the difference between two scaling methods: standardization preserves the structure of original data while normalization can distort variances between the instances.\n",
    "\n",
    "\n",
    "## Eclidean Distance\n",
    "\n",
    "\n",
    "The shortest path between two points.\n",
    "![_auto_1](attachment:_auto_1)\n",
    "\n",
    "### Summary for Euclidean Distance Metric\n",
    "\n",
    "| k-Nearest Neighbor | k-th point   | 1|2|3|4|5|6| 1-kNN|4-kNN|6-kNN\n",
    "|------|------|\n",
    "|   Raw Data | | B8|A10|C6|C15|A7|C9| **\"B\"**|**\"C\"**|**\"C\"**|\n",
    "|   Normalized Data | |B8|A10|B2|C6|A4|A7|**\"B\"**|**\"B\"**|**\"A\"**|\n",
    "|   Standardized Data ||B8|A10|B2|C6|C15|A4|**\"B\"**|**\"B\"**|**\"B\"**|\n",
    "\n",
    "The results are similar to the outcomes attained using Manhattan Distance as a similarity function.\n",
    "\n",
    "# Minkowski Distance with p=0.707\n",
    "\n",
    "Minkowski Norm with p=1/2 is not a valid metric (fails triangle inequality). However, it is used to favor an instance (for example in 2D)\n",
    "where the difference between the new example's first feature and an instance's first feature is small (assume 0.05) and the difference between their second feature is larger (assume 1.55) over another instance where both feature 1 and 2 are equally distant (here 0.8).\n",
    "\n",
    "![_auto_2](attachment:_auto_2)\n",
    "\n",
    "\n",
    "\n",
    "Chomboon, Kittipong, et al. “An Empirical Study of Distance Metrics for k-Nearest Neighbor Algorithm.” The Proceedings of the 2nd International Conference on Industrial Application Engineering 2015, 2015, doi:10.12792/iciae2015.051.\n",
    "\n",
    "# Summary for Minkowski Norm p=0.707\n",
    "|  k-Nearest Neighbor | k-th point   | 1|2|3|4|5|6|1-kNN|4-kNN|6-kNN\n",
    "|------|------|\n",
    "|   Raw Data | | B8|A10|C6|C15|A7|B2| **\"B\"**|**\"C\"**|**\"B\"***|\n",
    "|   Normalized Data | |B8|A10|B2|C6|C15|A7| **\"B\"**|**\"B\"**|**\"B\"***|\n",
    "|   Standardized Data ||B8|A10|B2|C6|C15|A7| **\"B\"**|**\"B\"**|**\"B\"***|\n",
    "\n",
    "In a case of a tie, a label with an instance closer to the new example is chosen.\n",
    "When Minkowski Norm with p=0.707 is applied as a similarity function the model train on standardized data and the model train on normalized data result in the same ordered list for the 6 closest neighbors. The disparity between these two different methods of scaling seems to be canceled by the choice of similarity function. (However, this behaviour is specific to the shape of this particular training data and should not be expected to generalize). \n",
    "\n",
    "# Minkowski Distance with p=2.828\n",
    "\n",
    "Minkowski Norm with p=2.828.\n",
    "\n",
    "![_auto_3](attachment:_auto_3)\n",
    "\n",
    "Chomboon, Kittipong, et al. “An Empirical Study of Distance Metrics for k-Nearest Neighbor Algorithm.” The Proceedings of the 2nd International Conference on Industrial Application Engineering 2015, 2015, doi:10.12792/iciae2015.051.\n",
    "\n",
    "\n",
    "# Summary for Minkowski Norm p=2.828\n",
    "|  k-Nearest Neighbor | k-th point   | 1|2|3|4|5|6|1-kNN|4-kNN|6-kNN\n",
    "|------|------|\n",
    "|   Raw Data | | C6|B8|A10|A13|C15|C9| **\"C\"**|**\"A\"**|**\"C\"**|\n",
    "|   Normalized Data | |B8|A10|C6|A4|B2|C3| **\"B\"**|**\"A\"**|**\"B\"***|\n",
    "|   Standardized Data ||B8|A10|C6|A4|B2|C3| **\"B\"**|**\"A\"**|**\"B\"***|\n",
    "\n",
    "In a case of a tie, a label with an instance closer to the new example is chosen.\n",
    "The model with k=1 and minkowski norm with =2.828 is first to classify the new instance as a member of a class \"C\".\n",
    "This similarity function results in many ties on the provided dataset.\n",
    "\n",
    "# Chebyshev Distance\n",
    "Is a metric where the distance between two vectors is the greatest of their differences along any coordinate dimension.\n",
    "![_auto_4](attachment:_auto_4)\n",
    "\n",
    "\n",
    "Chomboon, Kittipong, et al. “An Empirical Study of Distance Metrics for k-Nearest Neighbor Algorithm.” The Proceedings of the 2nd International Conference on Industrial Application Engineering 2015, 2015, doi:10.12792/iciae2015.051.\n",
    "\n",
    "\n",
    "# Summary for Chebyshev \n",
    "\n",
    "| k-Nearest Neighbor | k-th point   | 1|2|3|4|5|6|1-kNN|4-kNN|6-kNN\n",
    "|------|------|\n",
    "|   Raw Data | | C6|B8|A10|A13|C9|C15| **\"C\"**|**\"A\"**|**\"C\"**|\n",
    "|   Normalized Data | |B8|A10|C6|C9|A13|A4| **\"B\"**|**\"C\"**|**\"A\"**|\n",
    "|   Standardized Data ||B8|A10|C6|C9|A4|A1| **\"B\"**|**\"C\"**|**\"A\"**|\n",
    "\n",
    "In a case of a tie, a label with an instance closer to the new example is chosen.\n",
    "\n",
    "The results are similar to the outcomes attained using Minkowski Norm with p=2.828 as a similarity function.\n",
    "This means that the dataset does not contain any points in the area where the metrics differ."
   ]
  },
  {
   "cell_type": "markdown",
   "metadata": {},
   "source": [
    "# The following examples exhibit the influence of distance metric on the results of the classification\n",
    "\n",
    "## Raw Data\n",
    "\n",
    "| Method |1-kNN|4-kNN|6-kNN\n",
    "|------|------|\n",
    "| Minkowski p=0.707 | **\"B\"**|**\"C\"**|**\"B\"**|\n",
    "|Manhattan | **\"B\"**|**\"C\"**|**\"C\"**|\n",
    "|Euclidean| **\"B\"**|**\"C\"**|**\"C\"**|\n",
    "| Minkowski p=2.828 | **\"C\"**|**\"A\"**|**\"C\"**|\n",
    "| Chebyshev | **\"C\"**|**\"A\"**|**\"C\"**|\n",
    "\n",
    "The results of classifiers trained on a raw data differ greatly from those trained on normalized or standardized  data. When features measured on different scales are used in distance computation they introduce error to results. \n",
    "\n",
    "\n",
    "## Normalized Data\n",
    "| Method |1-kNN|4-kNN|6-kNN\n",
    "|------|------|\n",
    "| Minkowski p=0.707 | **\"B\"**|**\"B\"**|**\"B\"**|\n",
    "|Manhattan | **\"B\"**|**\"B\"**|**\"A\"**|\n",
    "|Euclidean| **\"B\"**|**\"B\"**|**\"A\"**|\n",
    "| Minkowski p=2.828 | **\"B\"**|**\"B\"**|**\"B\"**|\n",
    "| Chebyshev | **\"B\"**|**\"C\"**|**\"A\"**|\n",
    "\n",
    "When k=1 or k=4 the new instance is consistently categorized as a member of class \"B\". However, when k=6 3 out of 5 models consider the new example as a member of class \"A\". (This might be a result of overfitting k=6 is too big given that the training set consists of only 15 examples.)\n",
    "\n",
    "\n",
    "\n",
    "## Standardized Data\n",
    "| Method |1-kNN|4-kNN|6-kNN\n",
    "|------|------|\n",
    "| Minkowski p=0.707 | **\"B\"**|**\"B\"**|**\"B\"**|\n",
    "|Manhattan | **\"B\"**|**\"B\"**|**\"B\"**|\n",
    "|Euclidean| **\"B\"**|**\"B\"**|**\"B\"**|\n",
    "| Minkowski p=2.828 | **\"B\"**|**\"A\"**|**\"B\"**|\n",
    "| Chebyshev | **\"B\"**|**\"C\"**|**\"A\"**|\n",
    "\n",
    "Most models trained on standardized data categorize the new instance as a member of class \"B\" (6 out of 9).\n",
    "Two of the exceptions are results of the model trained with Chebyshev metric. That model considers greatest difference between a single feature as a distance between a training instance and the new instance - only small subset of available information is considered. (Cheaper computationally but less accurate.)\n"
   ]
  },
  {
   "cell_type": "markdown",
   "metadata": {},
   "source": [
    "<br>\n",
    "<br>\n",
    "<br>\n",
    "<br>\n",
    "<br>\n",
    "<br>"
   ]
  },
  {
   "cell_type": "markdown",
   "metadata": {},
   "source": [
    "# CALCULATIONS WITH DESCRIPTIONS"
   ]
  },
  {
   "cell_type": "code",
   "execution_count": 1,
   "metadata": {
    "collapsed": true
   },
   "outputs": [],
   "source": [
    "import pandas as pd\n",
    "from pandas import DataFrame\n",
    "import numpy as np\n",
    "from sklearn.neighbors import NearestNeighbors"
   ]
  },
  {
   "cell_type": "markdown",
   "metadata": {},
   "source": [
    "## Traing Data\n",
    "\n",
    "The provided dataset has 4 numeric features and a nominal class label (A, B or C)"
   ]
  },
  {
   "cell_type": "code",
   "execution_count": 11,
   "metadata": {
    "collapsed": true
   },
   "outputs": [],
   "source": [
    "data=pd.read_csv('hw1.txt')"
   ]
  },
  {
   "cell_type": "markdown",
   "metadata": {},
   "source": [
    "## RAW DATA\n",
    "\n",
    "Is not recommended to use kNN on raw data because different features are often measured on different scales. In case of kNN the features with big values would dominate the calculation. (Tree- based classification algorithms are  scale-invariant.)"
   ]
  },
  {
   "cell_type": "code",
   "execution_count": 12,
   "metadata": {},
   "outputs": [
    {
     "data": {
      "text/html": [
       "<div>\n",
       "<style>\n",
       "    .dataframe thead tr:only-child th {\n",
       "        text-align: right;\n",
       "    }\n",
       "\n",
       "    .dataframe thead th {\n",
       "        text-align: left;\n",
       "    }\n",
       "\n",
       "    .dataframe tbody tr th {\n",
       "        vertical-align: top;\n",
       "    }\n",
       "</style>\n",
       "<table border=\"1\" class=\"dataframe\">\n",
       "  <thead>\n",
       "    <tr style=\"text-align: right;\">\n",
       "      <th></th>\n",
       "      <th>data1</th>\n",
       "      <th>data2</th>\n",
       "      <th>data3</th>\n",
       "      <th>data4</th>\n",
       "      <th>class</th>\n",
       "    </tr>\n",
       "  </thead>\n",
       "  <tbody>\n",
       "    <tr>\n",
       "      <th>0</th>\n",
       "      <td>5.1</td>\n",
       "      <td>3.5</td>\n",
       "      <td>1.4</td>\n",
       "      <td>0.2</td>\n",
       "      <td>A1</td>\n",
       "    </tr>\n",
       "    <tr>\n",
       "      <th>1</th>\n",
       "      <td>4.9</td>\n",
       "      <td>3.0</td>\n",
       "      <td>1.4</td>\n",
       "      <td>0.2</td>\n",
       "      <td>B2</td>\n",
       "    </tr>\n",
       "    <tr>\n",
       "      <th>2</th>\n",
       "      <td>4.7</td>\n",
       "      <td>3.2</td>\n",
       "      <td>1.3</td>\n",
       "      <td>0.2</td>\n",
       "      <td>C3</td>\n",
       "    </tr>\n",
       "    <tr>\n",
       "      <th>3</th>\n",
       "      <td>4.6</td>\n",
       "      <td>3.1</td>\n",
       "      <td>1.5</td>\n",
       "      <td>0.2</td>\n",
       "      <td>A4</td>\n",
       "    </tr>\n",
       "    <tr>\n",
       "      <th>4</th>\n",
       "      <td>5.0</td>\n",
       "      <td>3.6</td>\n",
       "      <td>1.4</td>\n",
       "      <td>0.2</td>\n",
       "      <td>B5</td>\n",
       "    </tr>\n",
       "    <tr>\n",
       "      <th>5</th>\n",
       "      <td>5.5</td>\n",
       "      <td>2.3</td>\n",
       "      <td>4.0</td>\n",
       "      <td>1.3</td>\n",
       "      <td>C6</td>\n",
       "    </tr>\n",
       "    <tr>\n",
       "      <th>6</th>\n",
       "      <td>6.5</td>\n",
       "      <td>2.8</td>\n",
       "      <td>4.6</td>\n",
       "      <td>1.5</td>\n",
       "      <td>A7</td>\n",
       "    </tr>\n",
       "    <tr>\n",
       "      <th>7</th>\n",
       "      <td>5.7</td>\n",
       "      <td>2.8</td>\n",
       "      <td>4.5</td>\n",
       "      <td>1.3</td>\n",
       "      <td>B8</td>\n",
       "    </tr>\n",
       "    <tr>\n",
       "      <th>8</th>\n",
       "      <td>6.3</td>\n",
       "      <td>3.3</td>\n",
       "      <td>4.7</td>\n",
       "      <td>1.6</td>\n",
       "      <td>C9</td>\n",
       "    </tr>\n",
       "    <tr>\n",
       "      <th>9</th>\n",
       "      <td>4.9</td>\n",
       "      <td>2.4</td>\n",
       "      <td>3.3</td>\n",
       "      <td>1.0</td>\n",
       "      <td>A10</td>\n",
       "    </tr>\n",
       "    <tr>\n",
       "      <th>10</th>\n",
       "      <td>7.7</td>\n",
       "      <td>3.8</td>\n",
       "      <td>6.7</td>\n",
       "      <td>2.2</td>\n",
       "      <td>B11</td>\n",
       "    </tr>\n",
       "    <tr>\n",
       "      <th>11</th>\n",
       "      <td>7.7</td>\n",
       "      <td>2.6</td>\n",
       "      <td>6.9</td>\n",
       "      <td>2.3</td>\n",
       "      <td>C12</td>\n",
       "    </tr>\n",
       "    <tr>\n",
       "      <th>12</th>\n",
       "      <td>6.0</td>\n",
       "      <td>2.2</td>\n",
       "      <td>5.0</td>\n",
       "      <td>1.5</td>\n",
       "      <td>A13</td>\n",
       "    </tr>\n",
       "    <tr>\n",
       "      <th>13</th>\n",
       "      <td>6.9</td>\n",
       "      <td>3.2</td>\n",
       "      <td>5.7</td>\n",
       "      <td>2.3</td>\n",
       "      <td>B14</td>\n",
       "    </tr>\n",
       "    <tr>\n",
       "      <th>14</th>\n",
       "      <td>5.6</td>\n",
       "      <td>2.8</td>\n",
       "      <td>4.9</td>\n",
       "      <td>2.0</td>\n",
       "      <td>C15</td>\n",
       "    </tr>\n",
       "  </tbody>\n",
       "</table>\n",
       "</div>"
      ],
      "text/plain": [
       "    data1  data2  data3  data4 class\n",
       "0     5.1    3.5    1.4    0.2    A1\n",
       "1     4.9    3.0    1.4    0.2    B2\n",
       "2     4.7    3.2    1.3    0.2    C3\n",
       "3     4.6    3.1    1.5    0.2    A4\n",
       "4     5.0    3.6    1.4    0.2    B5\n",
       "5     5.5    2.3    4.0    1.3    C6\n",
       "6     6.5    2.8    4.6    1.5    A7\n",
       "7     5.7    2.8    4.5    1.3    B8\n",
       "8     6.3    3.3    4.7    1.6    C9\n",
       "9     4.9    2.4    3.3    1.0   A10\n",
       "10    7.7    3.8    6.7    2.2   B11\n",
       "11    7.7    2.6    6.9    2.3   C12\n",
       "12    6.0    2.2    5.0    1.5   A13\n",
       "13    6.9    3.2    5.7    2.3   B14\n",
       "14    5.6    2.8    4.9    2.0   C15"
      ]
     },
     "execution_count": 12,
     "metadata": {},
     "output_type": "execute_result"
    }
   ],
   "source": [
    "data_raw=data.copy()\n",
    "data_raw"
   ]
  },
  {
   "cell_type": "markdown",
   "metadata": {},
   "source": [
    "## New Instance to Classify (Raw Data)"
   ]
  },
  {
   "cell_type": "code",
   "execution_count": 26,
   "metadata": {
    "collapsed": true
   },
   "outputs": [],
   "source": [
    "example_raw=np.array([5.0,2.9,4.2,0.7])"
   ]
  },
  {
   "cell_type": "markdown",
   "metadata": {},
   "source": [
    "## NORMALIZED DATA\n",
    "\n",
    "Min-max normalization is used to transform data onto [0,1] range. However, using this method decreases the standard deviation among the points and supresses outliers. "
   ]
  },
  {
   "cell_type": "code",
   "execution_count": 97,
   "metadata": {
    "collapsed": true
   },
   "outputs": [
    {
     "name": "stderr",
     "output_type": "stream",
     "text": [
      "/usr/lib/python3.6/site-packages/ipykernel/__main__.py:7: SettingWithCopyWarning: \n",
      "A value is trying to be set on a copy of a slice from a DataFrame\n",
      "\n",
      "See the caveats in the documentation: http://pandas.pydata.org/pandas-docs/stable/indexing.html#indexing-view-versus-copy\n",
      "/usr/lib/python3.6/site-packages/ipykernel/__main__.py:8: SettingWithCopyWarning: \n",
      "A value is trying to be set on a copy of a slice from a DataFrame\n",
      "\n",
      "See the caveats in the documentation: http://pandas.pydata.org/pandas-docs/stable/indexing.html#indexing-view-versus-copy\n",
      "/usr/lib/python3.6/site-packages/ipykernel/__main__.py:9: SettingWithCopyWarning: \n",
      "A value is trying to be set on a copy of a slice from a DataFrame\n",
      "\n",
      "See the caveats in the documentation: http://pandas.pydata.org/pandas-docs/stable/indexing.html#indexing-view-versus-copy\n",
      "/usr/lib/python3.6/site-packages/ipykernel/__main__.py:10: SettingWithCopyWarning: \n",
      "A value is trying to be set on a copy of a slice from a DataFrame\n",
      "\n",
      "See the caveats in the documentation: http://pandas.pydata.org/pandas-docs/stable/indexing.html#indexing-view-versus-copy\n"
     ]
    }
   ],
   "source": [
    "data_normalized = data.copy()\n",
    "max_col_val=data_normalized.max()\n",
    "min_col_val=data_normalized.min()\n",
    "# new example does not include max or min value for any of the features\n",
    "\n",
    "for i in range(len(data_normalized)):\n",
    "    data_normalized[\"data1\"][i] = (data_normalized[\"data1\"][i]- min_col_val[0])/(max_col_val[0]-min_col_val[0])\n",
    "    data_normalized[\"data2\"][i] = (data_normalized[\"data2\"][i]- min_col_val[1])/(max_col_val[1]-min_col_val[1])\n",
    "    data_normalized[\"data3\"][i] = (data_normalized[\"data3\"][i]- min_col_val[2])/(max_col_val[2]-min_col_val[2])\n",
    "    data_normalized[\"data4\"][i] = (data_normalized[\"data4\"][i]- min_col_val[3])/(max_col_val[3]-min_col_val[3])"
   ]
  },
  {
   "cell_type": "code",
   "execution_count": 98,
   "metadata": {},
   "outputs": [
    {
     "data": {
      "text/html": [
       "<div>\n",
       "<style>\n",
       "    .dataframe thead tr:only-child th {\n",
       "        text-align: right;\n",
       "    }\n",
       "\n",
       "    .dataframe thead th {\n",
       "        text-align: left;\n",
       "    }\n",
       "\n",
       "    .dataframe tbody tr th {\n",
       "        vertical-align: top;\n",
       "    }\n",
       "</style>\n",
       "<table border=\"1\" class=\"dataframe\">\n",
       "  <thead>\n",
       "    <tr style=\"text-align: right;\">\n",
       "      <th></th>\n",
       "      <th>data1</th>\n",
       "      <th>data2</th>\n",
       "      <th>data3</th>\n",
       "      <th>data4</th>\n",
       "      <th>class</th>\n",
       "    </tr>\n",
       "  </thead>\n",
       "  <tbody>\n",
       "    <tr>\n",
       "      <th>0</th>\n",
       "      <td>0.161290</td>\n",
       "      <td>0.8125</td>\n",
       "      <td>0.017857</td>\n",
       "      <td>0.000000</td>\n",
       "      <td>A1</td>\n",
       "    </tr>\n",
       "    <tr>\n",
       "      <th>1</th>\n",
       "      <td>0.096774</td>\n",
       "      <td>0.5000</td>\n",
       "      <td>0.017857</td>\n",
       "      <td>0.000000</td>\n",
       "      <td>B2</td>\n",
       "    </tr>\n",
       "    <tr>\n",
       "      <th>2</th>\n",
       "      <td>0.032258</td>\n",
       "      <td>0.6250</td>\n",
       "      <td>0.000000</td>\n",
       "      <td>0.000000</td>\n",
       "      <td>C3</td>\n",
       "    </tr>\n",
       "    <tr>\n",
       "      <th>3</th>\n",
       "      <td>0.000000</td>\n",
       "      <td>0.5625</td>\n",
       "      <td>0.035714</td>\n",
       "      <td>0.000000</td>\n",
       "      <td>A4</td>\n",
       "    </tr>\n",
       "    <tr>\n",
       "      <th>4</th>\n",
       "      <td>0.129032</td>\n",
       "      <td>0.8750</td>\n",
       "      <td>0.017857</td>\n",
       "      <td>0.000000</td>\n",
       "      <td>B5</td>\n",
       "    </tr>\n",
       "    <tr>\n",
       "      <th>5</th>\n",
       "      <td>0.290323</td>\n",
       "      <td>0.0625</td>\n",
       "      <td>0.482143</td>\n",
       "      <td>0.523810</td>\n",
       "      <td>C6</td>\n",
       "    </tr>\n",
       "    <tr>\n",
       "      <th>6</th>\n",
       "      <td>0.612903</td>\n",
       "      <td>0.3750</td>\n",
       "      <td>0.589286</td>\n",
       "      <td>0.619048</td>\n",
       "      <td>A7</td>\n",
       "    </tr>\n",
       "    <tr>\n",
       "      <th>7</th>\n",
       "      <td>0.354839</td>\n",
       "      <td>0.3750</td>\n",
       "      <td>0.571429</td>\n",
       "      <td>0.523810</td>\n",
       "      <td>B8</td>\n",
       "    </tr>\n",
       "    <tr>\n",
       "      <th>8</th>\n",
       "      <td>0.548387</td>\n",
       "      <td>0.6875</td>\n",
       "      <td>0.607143</td>\n",
       "      <td>0.666667</td>\n",
       "      <td>C9</td>\n",
       "    </tr>\n",
       "    <tr>\n",
       "      <th>9</th>\n",
       "      <td>0.096774</td>\n",
       "      <td>0.1250</td>\n",
       "      <td>0.357143</td>\n",
       "      <td>0.380952</td>\n",
       "      <td>A10</td>\n",
       "    </tr>\n",
       "    <tr>\n",
       "      <th>10</th>\n",
       "      <td>1.000000</td>\n",
       "      <td>1.0000</td>\n",
       "      <td>0.964286</td>\n",
       "      <td>0.952381</td>\n",
       "      <td>B11</td>\n",
       "    </tr>\n",
       "    <tr>\n",
       "      <th>11</th>\n",
       "      <td>1.000000</td>\n",
       "      <td>0.2500</td>\n",
       "      <td>1.000000</td>\n",
       "      <td>1.000000</td>\n",
       "      <td>C12</td>\n",
       "    </tr>\n",
       "    <tr>\n",
       "      <th>12</th>\n",
       "      <td>0.451613</td>\n",
       "      <td>0.0000</td>\n",
       "      <td>0.660714</td>\n",
       "      <td>0.619048</td>\n",
       "      <td>A13</td>\n",
       "    </tr>\n",
       "    <tr>\n",
       "      <th>13</th>\n",
       "      <td>0.741935</td>\n",
       "      <td>0.6250</td>\n",
       "      <td>0.785714</td>\n",
       "      <td>1.000000</td>\n",
       "      <td>B14</td>\n",
       "    </tr>\n",
       "    <tr>\n",
       "      <th>14</th>\n",
       "      <td>0.322581</td>\n",
       "      <td>0.3750</td>\n",
       "      <td>0.642857</td>\n",
       "      <td>0.857143</td>\n",
       "      <td>C15</td>\n",
       "    </tr>\n",
       "  </tbody>\n",
       "</table>\n",
       "</div>"
      ],
      "text/plain": [
       "       data1   data2     data3     data4 class\n",
       "0   0.161290  0.8125  0.017857  0.000000    A1\n",
       "1   0.096774  0.5000  0.017857  0.000000    B2\n",
       "2   0.032258  0.6250  0.000000  0.000000    C3\n",
       "3   0.000000  0.5625  0.035714  0.000000    A4\n",
       "4   0.129032  0.8750  0.017857  0.000000    B5\n",
       "5   0.290323  0.0625  0.482143  0.523810    C6\n",
       "6   0.612903  0.3750  0.589286  0.619048    A7\n",
       "7   0.354839  0.3750  0.571429  0.523810    B8\n",
       "8   0.548387  0.6875  0.607143  0.666667    C9\n",
       "9   0.096774  0.1250  0.357143  0.380952   A10\n",
       "10  1.000000  1.0000  0.964286  0.952381   B11\n",
       "11  1.000000  0.2500  1.000000  1.000000   C12\n",
       "12  0.451613  0.0000  0.660714  0.619048   A13\n",
       "13  0.741935  0.6250  0.785714  1.000000   B14\n",
       "14  0.322581  0.3750  0.642857  0.857143   C15"
      ]
     },
     "execution_count": 98,
     "metadata": {},
     "output_type": "execute_result"
    }
   ],
   "source": [
    "data_normalized"
   ]
  },
  {
   "cell_type": "markdown",
   "metadata": {},
   "source": [
    "## New Instance to Classify (Normalized Data)"
   ]
  },
  {
   "cell_type": "code",
   "execution_count": 28,
   "metadata": {},
   "outputs": [
    {
     "data": {
      "text/plain": [
       "array([ 0.12903226,  0.4375    ,  0.51785714,  0.23809524])"
      ]
     },
     "execution_count": 28,
     "metadata": {},
     "output_type": "execute_result"
    }
   ],
   "source": [
    "example_normalized=example_raw.copy()\n",
    "\n",
    "example_normalized[0] = (example_normalized[0]- min_col_val[0])/(max_col_val[0]-min_col_val[0])\n",
    "example_normalized[1] = (example_normalized[1]- min_col_val[1])/(max_col_val[1]-min_col_val[1])\n",
    "example_normalized[2] = (example_normalized[2]- min_col_val[2])/(max_col_val[2]-min_col_val[2])\n",
    "example_normalized[3] = (example_normalized[3]- min_col_val[3])/(max_col_val[3]-min_col_val[3])\n",
    "example_normalized"
   ]
  },
  {
   "cell_type": "markdown",
   "metadata": {},
   "source": [
    "## Z-NORMALIZED (STANDARDIZED) DATA \n",
    "\n",
    "This method centers the data at 0. If all the features are z-normalized they contribute equally to kNN algorithm.\n"
   ]
  },
  {
   "cell_type": "code",
   "execution_count": 105,
   "metadata": {
    "collapsed": true
   },
   "outputs": [],
   "source": [
    "data_plus_new=pd.read_csv('hw1.txt')"
   ]
  },
  {
   "cell_type": "code",
   "execution_count": 107,
   "metadata": {
    "collapsed": true
   },
   "outputs": [
    {
     "name": "stderr",
     "output_type": "stream",
     "text": [
      "/usr/lib/python3.6/site-packages/ipykernel/__main__.py:7: SettingWithCopyWarning: \n",
      "A value is trying to be set on a copy of a slice from a DataFrame\n",
      "\n",
      "See the caveats in the documentation: http://pandas.pydata.org/pandas-docs/stable/indexing.html#indexing-view-versus-copy\n",
      "/usr/lib/python3.6/site-packages/ipykernel/__main__.py:8: SettingWithCopyWarning: \n",
      "A value is trying to be set on a copy of a slice from a DataFrame\n",
      "\n",
      "See the caveats in the documentation: http://pandas.pydata.org/pandas-docs/stable/indexing.html#indexing-view-versus-copy\n",
      "/usr/lib/python3.6/site-packages/ipykernel/__main__.py:9: SettingWithCopyWarning: \n",
      "A value is trying to be set on a copy of a slice from a DataFrame\n",
      "\n",
      "See the caveats in the documentation: http://pandas.pydata.org/pandas-docs/stable/indexing.html#indexing-view-versus-copy\n",
      "/usr/lib/python3.6/site-packages/ipykernel/__main__.py:10: SettingWithCopyWarning: \n",
      "A value is trying to be set on a copy of a slice from a DataFrame\n",
      "\n",
      "See the caveats in the documentation: http://pandas.pydata.org/pandas-docs/stable/indexing.html#indexing-view-versus-copy\n"
     ]
    }
   ],
   "source": [
    "mean_col_val=data_plus_new.mean()\n",
    "std_col_val=data_plus_new.std()\n",
    "data_standardized=data.copy()\n",
    "\n",
    "\n",
    "for i in range(len(data_normalized)):\n",
    "    data_standardized[\"data1\"][i] = (data_standardized[\"data1\"][i]- mean_col_val[0])/(std_col_val[0])\n",
    "    data_standardized[\"data2\"][i] = (data_standardized[\"data2\"][i]- mean_col_val[1])/(std_col_val[1])\n",
    "    data_standardized[\"data3\"][i] = (data_standardized[\"data3\"][i]- mean_col_val[2])/(std_col_val[2])\n",
    "    data_standardized[\"data4\"][i] = (data_standardized[\"data4\"][i]- mean_col_val[3])/(std_col_val[3])"
   ]
  },
  {
   "cell_type": "code",
   "execution_count": 108,
   "metadata": {},
   "outputs": [
    {
     "data": {
      "text/html": [
       "<div>\n",
       "<style>\n",
       "    .dataframe thead tr:only-child th {\n",
       "        text-align: right;\n",
       "    }\n",
       "\n",
       "    .dataframe thead th {\n",
       "        text-align: left;\n",
       "    }\n",
       "\n",
       "    .dataframe tbody tr th {\n",
       "        vertical-align: top;\n",
       "    }\n",
       "</style>\n",
       "<table border=\"1\" class=\"dataframe\">\n",
       "  <thead>\n",
       "    <tr style=\"text-align: right;\">\n",
       "      <th></th>\n",
       "      <th>data1</th>\n",
       "      <th>data2</th>\n",
       "      <th>data3</th>\n",
       "      <th>data4</th>\n",
       "      <th>class</th>\n",
       "    </tr>\n",
       "  </thead>\n",
       "  <tbody>\n",
       "    <tr>\n",
       "      <th>0</th>\n",
       "      <td>-0.648527</td>\n",
       "      <td>1.151202</td>\n",
       "      <td>-1.270910</td>\n",
       "      <td>-1.205029</td>\n",
       "      <td>A1</td>\n",
       "    </tr>\n",
       "    <tr>\n",
       "      <th>1</th>\n",
       "      <td>-0.846174</td>\n",
       "      <td>0.067718</td>\n",
       "      <td>-1.270910</td>\n",
       "      <td>-1.205029</td>\n",
       "      <td>B2</td>\n",
       "    </tr>\n",
       "    <tr>\n",
       "      <th>2</th>\n",
       "      <td>-1.043820</td>\n",
       "      <td>0.501112</td>\n",
       "      <td>-1.322917</td>\n",
       "      <td>-1.205029</td>\n",
       "      <td>C3</td>\n",
       "    </tr>\n",
       "    <tr>\n",
       "      <th>3</th>\n",
       "      <td>-1.142643</td>\n",
       "      <td>0.284415</td>\n",
       "      <td>-1.218904</td>\n",
       "      <td>-1.205029</td>\n",
       "      <td>A4</td>\n",
       "    </tr>\n",
       "    <tr>\n",
       "      <th>4</th>\n",
       "      <td>-0.747350</td>\n",
       "      <td>1.367899</td>\n",
       "      <td>-1.270910</td>\n",
       "      <td>-1.205029</td>\n",
       "      <td>B5</td>\n",
       "    </tr>\n",
       "    <tr>\n",
       "      <th>5</th>\n",
       "      <td>-0.253234</td>\n",
       "      <td>-1.449160</td>\n",
       "      <td>0.081260</td>\n",
       "      <td>0.163262</td>\n",
       "      <td>C6</td>\n",
       "    </tr>\n",
       "    <tr>\n",
       "      <th>6</th>\n",
       "      <td>0.734997</td>\n",
       "      <td>-0.365676</td>\n",
       "      <td>0.393300</td>\n",
       "      <td>0.412042</td>\n",
       "      <td>A7</td>\n",
       "    </tr>\n",
       "    <tr>\n",
       "      <th>7</th>\n",
       "      <td>-0.055588</td>\n",
       "      <td>-0.365676</td>\n",
       "      <td>0.341293</td>\n",
       "      <td>0.163262</td>\n",
       "      <td>B8</td>\n",
       "    </tr>\n",
       "    <tr>\n",
       "      <th>8</th>\n",
       "      <td>0.537351</td>\n",
       "      <td>0.717808</td>\n",
       "      <td>0.445306</td>\n",
       "      <td>0.536432</td>\n",
       "      <td>C9</td>\n",
       "    </tr>\n",
       "    <tr>\n",
       "      <th>9</th>\n",
       "      <td>-0.846174</td>\n",
       "      <td>-1.232464</td>\n",
       "      <td>-0.282786</td>\n",
       "      <td>-0.209908</td>\n",
       "      <td>A10</td>\n",
       "    </tr>\n",
       "    <tr>\n",
       "      <th>10</th>\n",
       "      <td>1.920876</td>\n",
       "      <td>1.801293</td>\n",
       "      <td>1.485437</td>\n",
       "      <td>1.282773</td>\n",
       "      <td>B11</td>\n",
       "    </tr>\n",
       "    <tr>\n",
       "      <th>11</th>\n",
       "      <td>1.920876</td>\n",
       "      <td>-0.799070</td>\n",
       "      <td>1.589451</td>\n",
       "      <td>1.407163</td>\n",
       "      <td>C12</td>\n",
       "    </tr>\n",
       "    <tr>\n",
       "      <th>12</th>\n",
       "      <td>0.240882</td>\n",
       "      <td>-1.665857</td>\n",
       "      <td>0.601326</td>\n",
       "      <td>0.412042</td>\n",
       "      <td>A13</td>\n",
       "    </tr>\n",
       "    <tr>\n",
       "      <th>13</th>\n",
       "      <td>1.130290</td>\n",
       "      <td>0.501112</td>\n",
       "      <td>0.965372</td>\n",
       "      <td>1.407163</td>\n",
       "      <td>B14</td>\n",
       "    </tr>\n",
       "    <tr>\n",
       "      <th>14</th>\n",
       "      <td>-0.154411</td>\n",
       "      <td>-0.365676</td>\n",
       "      <td>0.549319</td>\n",
       "      <td>1.033992</td>\n",
       "      <td>C15</td>\n",
       "    </tr>\n",
       "  </tbody>\n",
       "</table>\n",
       "</div>"
      ],
      "text/plain": [
       "       data1     data2     data3     data4 class\n",
       "0  -0.648527  1.151202 -1.270910 -1.205029    A1\n",
       "1  -0.846174  0.067718 -1.270910 -1.205029    B2\n",
       "2  -1.043820  0.501112 -1.322917 -1.205029    C3\n",
       "3  -1.142643  0.284415 -1.218904 -1.205029    A4\n",
       "4  -0.747350  1.367899 -1.270910 -1.205029    B5\n",
       "5  -0.253234 -1.449160  0.081260  0.163262    C6\n",
       "6   0.734997 -0.365676  0.393300  0.412042    A7\n",
       "7  -0.055588 -0.365676  0.341293  0.163262    B8\n",
       "8   0.537351  0.717808  0.445306  0.536432    C9\n",
       "9  -0.846174 -1.232464 -0.282786 -0.209908   A10\n",
       "10  1.920876  1.801293  1.485437  1.282773   B11\n",
       "11  1.920876 -0.799070  1.589451  1.407163   C12\n",
       "12  0.240882 -1.665857  0.601326  0.412042   A13\n",
       "13  1.130290  0.501112  0.965372  1.407163   B14\n",
       "14 -0.154411 -0.365676  0.549319  1.033992   C15"
      ]
     },
     "execution_count": 108,
     "metadata": {},
     "output_type": "execute_result"
    }
   ],
   "source": [
    "data_standardized"
   ]
  },
  {
   "cell_type": "markdown",
   "metadata": {},
   "source": [
    "## New Instance to Classify (Standardized Data)"
   ]
  },
  {
   "cell_type": "code",
   "execution_count": 109,
   "metadata": {},
   "outputs": [
    {
     "data": {
      "text/plain": [
       "array([-0.74735036, -0.14897911,  0.18527338, -0.58307847])"
      ]
     },
     "execution_count": 109,
     "metadata": {},
     "output_type": "execute_result"
    }
   ],
   "source": [
    "example_standardized=example_raw.copy()\n",
    "\n",
    "example_standardized[0] = (example_standardized[0]- mean_col_val[0])/(std_col_val[0])\n",
    "example_standardized[1] = (example_standardized[1]- mean_col_val[1])/(std_col_val[1])\n",
    "example_standardized[2] = (example_standardized[2]- mean_col_val[2])/(std_col_val[2])\n",
    "example_standardized[3] = (example_standardized[3]- mean_col_val[3])/(std_col_val[3])\n",
    "example_standardized"
   ]
  },
  {
   "attachments": {},
   "cell_type": "markdown",
   "metadata": {},
   "source": [
    "## Manhattan Distance\n"
   ]
  },
  {
   "cell_type": "code",
   "execution_count": 20,
   "metadata": {
    "collapsed": true
   },
   "outputs": [],
   "source": [
    "\n",
    "# manhattan_distance(data, number_of_features, example ):\n",
    "# Calculates Manhattan Distance between training data and a new example.\n",
    "# @param  Data Frame [in]  data  - training data, one instance per row,\n",
    "#         int        [in]  number_of_features  - number of numeric features per istance (not including class),\n",
    "#         array int  [in]  example  - data to classify\n",
    "# @pre   data contains numerical features followed by a label in the last column, \n",
    "#        example has the same number of numeric features as training instances \n",
    "# @post   distance between each training instance and the example is calculated\n",
    "# @returns array of (distance, class) tuples sorted by distance (ascending)\n",
    "#/\n",
    "\n",
    "def manhattan_distance(data, number_of_features, example ):\n",
    "    results_manhattan=[]\n",
    "    for i in range(len(data)):\n",
    "        row = data.iloc[i]\n",
    "        sum = 0\n",
    "        for j in range(number_of_features):\n",
    "            sum= sum + abs(row[j]-example[j])\n",
    "        tup=(sum, row[j+1])\n",
    "        results_manhattan.append(tup)\n",
    "    results_manhattan.sort()  \n",
    "    print(results_manhattan)\n",
    "        "
   ]
  },
  {
   "cell_type": "code",
   "execution_count": 21,
   "metadata": {},
   "outputs": [
    {
     "name": "stdout",
     "output_type": "stream",
     "text": [
      "[(1.7000000000000002, 'B8'), (1.8, 'A10'), (1.9000000000000004, 'C6'), (2.7000000000000002, 'C15'), (2.7999999999999998, 'A7'), (3.0999999999999996, 'C9'), (3.2999999999999998, 'A13'), (3.5, 'B2'), (3.8000000000000007, 'A4'), (4.0, 'A1'), (4.0, 'B5'), (4.0, 'C3'), (5.3000000000000007, 'B14'), (7.2999999999999998, 'C12'), (7.5999999999999996, 'B11')]\n"
     ]
    }
   ],
   "source": [
    "manhattan_distance(data_raw, 4, example_raw)"
   ]
  },
  {
   "cell_type": "code",
   "execution_count": 22,
   "metadata": {},
   "outputs": [
    {
     "name": "stdout",
     "output_type": "stream",
     "text": [
      "[(0.62759216589861766, 'B8'), (0.64832949308755772, 'A10'), (0.83285330261136714, 'B2'), (0.85771889400921686, 'C6'), (0.97427035330261169, 'A4'), (0.99875192012288783, 'A7'), (1.0000960061443933, 'C15'), (1.0402265745007682, 'C3'), (1.1453533026113674, 'A1'), (1.1755952380952384, 'B5'), (1.1872119815668203, 'C9'), (1.2838901689708142, 'A13'), (1.8301651305683564, 'B14'), (2.3025153609831026, 'C12'), (2.5941820276497696, 'B11')]\n"
     ]
    }
   ],
   "source": [
    "manhattan_distance(data_normalized, 4, example_normalized)"
   ]
  },
  {
   "cell_type": "code",
   "execution_count": 110,
   "metadata": {},
   "outputs": [
    {
     "name": "stdout",
     "output_type": "stream",
     "text": [
      "[(1.8108193256368077, 'B8'), (2.023536917830167, 'A10'), (2.3936541757855325, 'B2'), (2.6446508436419252, 'C6'), (2.7907528952880476, 'C15'), (2.8548140672360063, 'A4'), (2.902191532820146, 'A7'), (3.0767008945576375, 'C3'), (3.4771386306264054, 'A1'), (3.5310324654889413, 'C9'), (3.5950123341309697, 'B5'), (3.9162831889452749, 'A13'), (5.2980708278684867, 'B14'), (6.7127350704797797, 'C12'), (7.7845132196888001, 'B11')]\n"
     ]
    }
   ],
   "source": [
    "manhattan_distance(data_standardized, 4, example_standardized)"
   ]
  },
  {
   "cell_type": "markdown",
   "metadata": {},
   "source": []
  },
  {
   "attachments": {},
   "cell_type": "markdown",
   "metadata": {},
   "source": [
    "## Eclidean Distance\n",
    "\n"
   ]
  },
  {
   "cell_type": "code",
   "execution_count": 47,
   "metadata": {
    "collapsed": true
   },
   "outputs": [],
   "source": [
    "def euclidean_distance(data, number_of_features, example ):\n",
    "    results_euclidean=[]\n",
    "    for i in range(len(data)):\n",
    "        row = data.iloc[i]\n",
    "        sum = 0\n",
    "        for j in range(number_of_features):\n",
    "            sum= sum + ((row[j]-example[j])*(row[j]-example[j]))\n",
    "        sum=np.sqrt(sum)\n",
    "        tup=(sum, row[j+1])\n",
    "        results_euclidean.append(tup)\n",
    "    results_euclidean.sort()  \n",
    "    print(results_euclidean)"
   ]
  },
  {
   "cell_type": "code",
   "execution_count": 48,
   "metadata": {},
   "outputs": [
    {
     "name": "stdout",
     "output_type": "stream",
     "text": [
      "[(0.97467943448089656, 'B8'), (1.0049875621120892, 'C6'), (1.077032961426901, 'A10'), (1.5968719422671311, 'C15'), (1.6643316977093237, 'A13'), (1.7058722109231981, 'C9'), (1.7492855684535902, 'A7'), (2.7820855486487113, 'A4'), (2.8478061731796287, 'B2'), (2.9086079144497976, 'A1'), (2.9171904291629644, 'B14'), (2.9291637031753623, 'B5'), (2.9732137494637012, 'C3'), (4.0743097574926725, 'B11'), (4.150903516103452, 'C12')]\n"
     ]
    }
   ],
   "source": [
    "euclidean_distance(data_raw, 4, example_raw)"
   ]
  },
  {
   "cell_type": "code",
   "execution_count": 49,
   "metadata": {},
   "outputs": [
    {
     "name": "stdout",
     "output_type": "stream",
     "text": [
      "[(0.37335955138501364, 'B8'), (0.38070208513256931, 'A10'), (0.49954752669137992, 'C6'), (0.5582438312511433, 'B2'), (0.56694391320370807, 'A4'), (0.60777204390193218, 'C3'), (0.62310843421761808, 'A7'), (0.65574681769146614, 'C9'), (0.66348487759427421, 'C15'), (0.66959310415352635, 'A1'), (0.67896789500775978, 'A13'), (0.70575887695701589, 'B5'), (1.0310445816727316, 'B14'), (1.2675573590174232, 'C12'), (1.3358493958948381, 'B11')]\n"
     ]
    }
   ],
   "source": [
    "euclidean_distance(data_normalized, 4, example_normalized)"
   ]
  },
  {
   "cell_type": "code",
   "execution_count": 111,
   "metadata": {},
   "outputs": [
    {
     "name": "stdout",
     "output_type": "stream",
     "text": [
      "[(1.0520735853457757, 'B8'), (1.2417889833341578, 'A10'), (1.5819180980309653, 'C6'), (1.6012547847365488, 'B2'), (1.6439654231550886, 'A4'), (1.7736916966661413, 'C15'), (1.7810031742183252, 'C3'), (1.8104840433182767, 'A7'), (1.9294298722640966, 'C9'), (2.0512266756934117, 'A1'), (2.1073410913563371, 'A13'), (2.1927637597138285, 'B5'), (2.9185211004331379, 'B14'), (3.670806671616599, 'C12'), (4.0118347560521901, 'B11')]\n"
     ]
    }
   ],
   "source": [
    "euclidean_distance(data_standardized, 4, example_standardized)"
   ]
  },
  {
   "attachments": {},
   "cell_type": "markdown",
   "metadata": {},
   "source": [
    "## Minkowski Distance with p=0.707\n"
   ]
  },
  {
   "cell_type": "code",
   "execution_count": 56,
   "metadata": {},
   "outputs": [],
   "source": [
    "def minkowski_distance(data, number_of_features, example,p ):\n",
    "    results_minkowski=[]\n",
    "    for i in range(len(data)):\n",
    "        row = data.iloc[i]\n",
    "        sum = 0\n",
    "        for j in range(number_of_features):\n",
    "            sum= sum + np.power(abs(row[j]-example[j]), p)\n",
    "        sum=np.power(sum, (1/p))\n",
    "        tup=(sum, row[j+1])\n",
    "        results_minkowski.append(tup)\n",
    "    results_minkowski.sort()  \n",
    "    print(results_minkowski)"
   ]
  },
  {
   "cell_type": "markdown",
   "metadata": {},
   "source": [
    "## Results of Classification using Minkowski Norm (p=0.707) and Raw Data"
   ]
  },
  {
   "cell_type": "code",
   "execution_count": 64,
   "metadata": {},
   "outputs": [
    {
     "name": "stdout",
     "output_type": "stream",
     "text": [
      "[(2.8506370183951262, 'B8'), (2.9799535974451685, 'A10'), (3.3018976900840964, 'C6'), (4.4516822957102038, 'C15'), (4.5206725525899349, 'A7'), (4.9004559829221108, 'B2'), (5.3379931142803896, 'C9'), (5.7886309592183736, 'B5'), (5.8218001700825655, 'A4'), (5.8471582090371905, 'A13'), (6.0652084032632043, 'A1'), (6.0954714358115112, 'C3'), (8.9989473910742159, 'B14'), (12.186488343509605, 'C12'), (13.175567938556654, 'B11')]\n"
     ]
    }
   ],
   "source": [
    "minkowski_distance(data_raw, 4, example_raw,0.707)"
   ]
  },
  {
   "cell_type": "markdown",
   "metadata": {},
   "source": [
    "## Results of Classification using Minkowski Norm (p=0.707) and Normalized Data"
   ]
  },
  {
   "cell_type": "code",
   "execution_count": 65,
   "metadata": {},
   "outputs": [
    {
     "name": "stdout",
     "output_type": "stream",
     "text": [
      "[(1.040907836624714, 'B8'), (1.0784716590774692, 'A10'), (1.3005864661069491, 'B2'), (1.4215961101442187, 'C6'), (1.6034925404406315, 'C15'), (1.6088353353992171, 'A7'), (1.6496035229524306, 'A4'), (1.7553704706185997, 'C3'), (1.8291662543982454, 'B5'), (1.8811616878123407, 'A1'), (2.0249674413368384, 'C9'), (2.2333590725520773, 'A13'), (3.1146714347748574, 'B14'), (3.9375915718113776, 'C12'), (4.5667370521505468, 'B11')]\n"
     ]
    }
   ],
   "source": [
    "minkowski_distance(data_normalized, 4, example_normalized,0.707)"
   ]
  },
  {
   "cell_type": "markdown",
   "metadata": {},
   "source": [
    "## Results of Classification using Minkowski Norm (p=0.707) and Standarlized Data"
   ]
  },
  {
   "cell_type": "code",
   "execution_count": 112,
   "metadata": {},
   "outputs": [
    {
     "name": "stdout",
     "output_type": "stream",
     "text": [
      "[(3.0342829686427746, 'B8'), (3.3199228275366091, 'A10'), (3.764906989859953, 'B2'), (4.3475452038754367, 'C6'), (4.5622103551724278, 'C15'), (4.69907465337345, 'A7'), (4.8610501737044762, 'A4'), (5.21128801833013, 'C3'), (5.5562310626978855, 'B5'), (5.6877686868238886, 'A1'), (6.041169920008759, 'C9'), (6.7775087459798637, 'A13'), (9.0990247404595515, 'B14'), (11.542440162399997, 'C12'), (13.700504319502254, 'B11')]\n"
     ]
    }
   ],
   "source": [
    "minkowski_distance(data_standardized, 4, example_standardized,0.707 )"
   ]
  },
  {
   "cell_type": "markdown",
   "metadata": {},
   "source": []
  },
  {
   "attachments": {},
   "cell_type": "markdown",
   "metadata": {},
   "source": [
    "## Minkowski Distance with p=2.828\n"
   ]
  },
  {
   "cell_type": "markdown",
   "metadata": {},
   "source": [
    "## Results of Classification using Minkowski Norm (p=2.828) and Raw Data"
   ]
  },
  {
   "cell_type": "code",
   "execution_count": 69,
   "metadata": {},
   "outputs": [
    {
     "name": "stdout",
     "output_type": "stream",
     "text": [
      "[(0.84594583187721206, 'C6'), (0.85175875245511301, 'B8'), (0.9701457774055734, 'A10'), (1.3685953395850678, 'A13'), (1.4211884653827338, 'C15'), (1.4847769725849334, 'C9'), (1.5967267154817457, 'A7'), (2.4836168573081641, 'B14'), (2.7129650688161546, 'A4'), (2.8077228591849073, 'B2'), (2.8202262989758178, 'A1'), (2.826980084012245, 'B5'), (2.9104310716171771, 'C3'), (3.4734838544207149, 'B11'), (3.5851380277818889, 'C12')]\n"
     ]
    }
   ],
   "source": [
    "minkowski_distance(data_raw, 4, example_raw,2.828)"
   ]
  },
  {
   "cell_type": "markdown",
   "metadata": {},
   "source": [
    "## Results of Classification using Minkowski Norm (p=2.828) and Normalized Data"
   ]
  },
  {
   "cell_type": "code",
   "execution_count": 70,
   "metadata": {},
   "outputs": [
    {
     "name": "stdout",
     "output_type": "stream",
     "text": [
      "[(0.33256996054322518, 'B8'), (0.33943730477039574, 'A10'), (0.4385319494423619, 'C6'), (0.51150836188129489, 'A4'), (0.52141166769072589, 'B2'), (0.5484647855058169, 'C3'), (0.56056900029276213, 'A7'), (0.56363380523086171, 'C9'), (0.57262095391575563, 'A13'), (0.58598593971590995, 'A1'), (0.61649704553057516, 'B5'), (0.62975604420035036, 'C15'), (0.90192180427955371, 'B14'), (1.0899798647418613, 'C12'), (1.1152767894986924, 'B11')]\n"
     ]
    }
   ],
   "source": [
    "minkowski_distance(data_normalized, 4, example_normalized,2.828)"
   ]
  },
  {
   "cell_type": "markdown",
   "metadata": {},
   "source": [
    "## Results of Classification using Minkowski Norm (p=2.828) and Standardized Data"
   ]
  },
  {
   "cell_type": "code",
   "execution_count": 113,
   "metadata": {},
   "outputs": [
    {
     "name": "stdout",
     "output_type": "stream",
     "text": [
      "[(0.9275246338433013, 'B8'), (1.1360481323216385, 'A10'), (1.416308164520699, 'C6'), (1.4815057560313398, 'A4'), (1.503799371100218, 'B2'), (1.6011417925707263, 'C3'), (1.6405950354358483, 'A7'), (1.646488090324927, 'C9'), (1.6599017776311207, 'C15'), (1.798390862047017, 'A1'), (1.8017747174191043, 'A13'), (1.9283089174298123, 'B5'), (2.5254482325403078, 'B14'), (3.162910560692866, 'C12'), (3.3522211507826509, 'B11')]\n"
     ]
    }
   ],
   "source": [
    "minkowski_distance(data_standardized, 4, example_standardized,2.828 )"
   ]
  },
  {
   "attachments": {},
   "cell_type": "markdown",
   "metadata": {},
   "source": [
    "## Chebyshev Distance\n"
   ]
  },
  {
   "cell_type": "code",
   "execution_count": 84,
   "metadata": {
    "collapsed": true
   },
   "outputs": [],
   "source": [
    "def chebyshev_distance(data, number_of_features, example ):\n",
    "    results_chebyshev=[]\n",
    "    for i in range(len(data)):\n",
    "        row = data.iloc[i]\n",
    "        results=[]\n",
    "        for j in range(number_of_features):\n",
    "            difference=abs(row[j]-example[j])\n",
    "            results.append(difference)\n",
    "        current_max=max(results)\n",
    "        tup=(current_max, row[j+1])\n",
    "        results_chebyshev.append(tup)\n",
    "    results_chebyshev.sort()  \n",
    "    print(results_chebyshev)"
   ]
  },
  {
   "cell_type": "code",
   "execution_count": 85,
   "metadata": {},
   "outputs": [
    {
     "name": "stdout",
     "output_type": "stream",
     "text": [
      "[(0.60000000000000009, 'C6'), (0.70000000000000018, 'B8'), (0.90000000000000036, 'A10'), (1.0, 'A13'), (1.2999999999999998, 'C9'), (1.3, 'C15'), (1.5, 'A7'), (1.9000000000000004, 'B14'), (2.7000000000000002, 'A4'), (2.7000000000000002, 'B11'), (2.7000000000000002, 'C12'), (2.8000000000000003, 'A1'), (2.8000000000000003, 'B2'), (2.8000000000000003, 'B5'), (2.9000000000000004, 'C3')]\n"
     ]
    }
   ],
   "source": [
    "chebyshev_distance(data_raw, 4, example_raw )"
   ]
  },
  {
   "cell_type": "code",
   "execution_count": 86,
   "metadata": {},
   "outputs": [
    {
     "name": "stdout",
     "output_type": "stream",
     "text": [
      "[(0.28571428571428581, 'B8'), (0.31250000000000011, 'A10'), (0.37500000000000017, 'C6'), (0.42857142857142871, 'C9'), (0.43749999999999994, 'A13'), (0.48214285714285721, 'A4'), (0.48387096774193539, 'A7'), (0.50000000000000011, 'A1'), (0.50000000000000011, 'B2'), (0.50000000000000011, 'B5'), (0.5178571428571429, 'C3'), (0.61904761904761918, 'C15'), (0.76190476190476186, 'B14'), (0.87096774193548376, 'B11'), (0.87096774193548376, 'C12')]\n"
     ]
    }
   ],
   "source": [
    "chebyshev_distance(data_normalized, 4, example_normalized )"
   ]
  },
  {
   "cell_type": "code",
   "execution_count": 114,
   "metadata": {},
   "outputs": [
    {
     "name": "stdout",
     "output_type": "stream",
     "text": [
      "[(0.74634043669775574, 'B8'), (1.0834844548408729, 'A10'), (1.2847014370269396, 'C9'), (1.3001813458090477, 'C6'), (1.4041771715304172, 'A4'), (1.4561837334389514, 'A1'), (1.4561837334389514, 'B2'), (1.4823478119541613, 'A7'), (1.5081902953474851, 'C3'), (1.5168782367772216, 'A13'), (1.5168782367772222, 'B5'), (1.6170709461784705, 'C15'), (1.9902411645273481, 'B14'), (2.6682260615174904, 'B11'), (2.6682260615174904, 'C12')]\n"
     ]
    }
   ],
   "source": [
    "chebyshev_distance(data_standardized, 4, example_standardized)"
   ]
  },
  {
   "cell_type": "code",
   "execution_count": null,
   "metadata": {
    "collapsed": true
   },
   "outputs": [],
   "source": []
  }
 ],
 "metadata": {
  "kernelspec": {
   "display_name": "Python 3",
   "language": "python",
   "name": "python3"
  },
  "language_info": {
   "codemirror_mode": {
    "name": "ipython",
    "version": 3
   },
   "file_extension": ".py",
   "mimetype": "text/x-python",
   "name": "python",
   "nbconvert_exporter": "python",
   "pygments_lexer": "ipython3",
   "version": "3.6.2"
  }
 },
 "nbformat": 4,
 "nbformat_minor": 2
}
